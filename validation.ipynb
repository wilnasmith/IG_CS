{
 "cells": [
  {
   "cell_type": "markdown",
   "metadata": {},
   "source": [
    "# Validation\n",
    "The **automated** checking by a program that data is **reasonable** before it us accepted into a computer system.\n",
    "\n",
    "**Methods to you should know**\n",
    "* range check\n",
    "* length check\n",
    "* presence check\n",
    "* type check\n",
    "* character check\n",
    "* format check\n",
    "* check digit"
   ]
  },
  {
   "cell_type": "markdown",
   "metadata": {},
   "source": [
    "---\n",
    "## Range check\n",
    "Checks that **only numbers** within a **specified range** are accepted. E.g. If you want to book on any day in a 14 day period only values between 1 and 14 (inclusive) must be accepted."
   ]
  },
  {
   "cell_type": "code",
   "execution_count": null,
   "metadata": {},
   "outputs": [],
   "source": [
    "def rangeCheck():\n",
    "    day = int(input(\"Enter day to book on (1 to 14)\"))  # Initialise\n",
    "    while day < 1 or day > 14:  # Test\n",
    "        print(\"invalid\")\n",
    "        day = int(input(\"Enter day to book on \"))  # Change\n",
    "    print(\"You are booked on day:\", day)\n",
    "\n",
    "rangeCheck()"
   ]
  },
  {
   "cell_type": "markdown",
   "metadata": {},
   "source": [
    "**in Pseudocode:**\n",
    "```\n",
    "INPUT day\n",
    "WHILE day < 1 OR day > 14 DO\n",
    "    OUTPUT \"Invalid\"\n",
    "    INPUT day\n",
    "ENDWHILE\n",
    "OUTPUT \"You are booked on day:\" & day\n",
    "```"
   ]
  },
  {
   "cell_type": "markdown",
   "metadata": {},
   "source": [
    "---\n",
    "## Length check\n",
    "Checks that data contains either the **exact** number of characters or a **reasonable number** of characters.  E.g. a password should be at least 8 characters long"
   ]
  },
  {
   "cell_type": "code",
   "execution_count": null,
   "metadata": {},
   "outputs": [],
   "source": [
    "def lengthCheck():\n",
    "    password = input(\"Enter a password \")  # Initialise\n",
    "    while len(password) < 8:  # Test\n",
    "        print(\"Password too short - try again\")\n",
    "        password = input(\"Enter a password \")  # Change\n",
    "    print(\"Good password\")\n",
    "\n",
    "lengthCheck()"
   ]
  },
  {
   "cell_type": "markdown",
   "metadata": {},
   "source": [
    "**in Pseudocode:**\n",
    "```\n",
    "INPUT password\n",
    "WHILE LENGTH(password) < 8 DO\n",
    "    OUTPUT \"Password too short - try again\"\n",
    "    INPUT password\n",
    "ENDWHILE\n",
    "OUTPUT \"Good Password\"\n",
    "```"
   ]
  },
  {
   "cell_type": "markdown",
   "metadata": {},
   "source": [
    "---\n",
    "## Presence check\n",
    "Checks to ensure that **some data** has been entered - the value should **not be left blank**. E.g. name must be entered to book a parking spot"
   ]
  },
  {
   "cell_type": "code",
   "execution_count": null,
   "metadata": {},
   "outputs": [],
   "source": [
    "def presenceCheck():\n",
    "    name = input(\"Enter your name \")  # Initialise\n",
    "    while len(name) == 0:  # Test\n",
    "        print(\"You must enter the name\")\n",
    "        name = input(\"Enter your name \")  # Change\n",
    "    print(\"Hello\", name)\n",
    "\n",
    "presenceCheck()"
   ]
  },
  {
   "cell_type": "markdown",
   "metadata": {},
   "source": [
    "**in Pseudocode:**\n",
    "```\n",
    "INPUT name\n",
    "WHILE LENGTH(name) = 0 DO\n",
    "    OUTPUT \"You must enter the name\"\n",
    "    INPUT name\n",
    "ENDWHILE\n",
    "OUTPUT \"Hello \" & name\n",
    "```"
   ]
  },
  {
   "cell_type": "markdown",
   "metadata": {},
   "source": [
    "---\n",
    "## Type check\n",
    "Checks that the data entered is of a **given data type.** E.g. \"Enter you lucky number\" would require an integer input."
   ]
  },
  {
   "cell_type": "code",
   "execution_count": null,
   "metadata": {},
   "outputs": [],
   "source": [
    "def typeCheck():\n",
    "    finished = False  # Initialise\n",
    "    while finished == False:  # Test\n",
    "        number = input(\"Enter a number \")\n",
    "        try:\n",
    "            newNum = int(number)\n",
    "            finished = True  # Change\n",
    "        except:\n",
    "            print(\"Not a number\")\n",
    "    print(\"That is a good number\")\n",
    "\n",
    "typeCheck()"
   ]
  },
  {
   "cell_type": "markdown",
   "metadata": {},
   "source": [
    "**in Pseudocode:**\n",
    "```\n",
    "finished ← FALSE\n",
    "WHILE finished = FALSE DO\n",
    "    INPUT number\n",
    "    IF IS_NUM(number) = TRUE\n",
    "        THEN\n",
    "            finished ← TRUE\n",
    "    ENDIF\n",
    "    IF finished = FALSE\n",
    "        THEN\n",
    "            OUTPUT \"Not a number\"\n",
    "    ENDIF\n",
    "ENDWHILE\n",
    "OUTPUT \"That is a good number\"\n",
    "```"
   ]
  },
  {
   "cell_type": "markdown",
   "metadata": {},
   "source": [
    "---\n",
    "## Character check\n",
    "Checks that when a **string of characters** is entered it **does not** contain **invalid characters** or **symbols.** E.g. when entering a name there should be no numbers or special characters."
   ]
  },
  {
   "cell_type": "code",
   "execution_count": null,
   "metadata": {},
   "outputs": [],
   "source": [
    "def charCheck():\n",
    "    valid = False\n",
    "    while valid == False:\n",
    "        valid = True\n",
    "        name = input(\"Enter name \")\n",
    "        name = name.upper()\n",
    "        for j in range(len(name)):\n",
    "            if name[j] < \"A\" or name[j] > \"Z\":\n",
    "                valid = False\n",
    "        if valid == False:\n",
    "            print(\"Invalid name\")\n",
    "    print(\"Hello\", name)\n",
    "\n",
    "charCheck()"
   ]
  },
  {
   "cell_type": "markdown",
   "metadata": {},
   "source": [
    "**in Pseudocode:**\n",
    "```\n",
    "valid ← FALSE\n",
    "WHILE valid = false DO\n",
    "    valid ← TRUE\n",
    "    INPUT name\n",
    "    name ← TO_UPPER(name)\n",
    "    FOR j ← 1 TO LENGTH(name)\n",
    "        IF name[j] < \"A\" OR name[j] > \"Z\"\n",
    "            THEN\n",
    "                valid ← FALSE\n",
    "        ENDIF\n",
    "    NEXT j\n",
    "\n",
    "    IF valid = FALSE\n",
    "        THEN\n",
    "            OUTPUT \"Invalid name\"\n",
    "    ENDIF\n",
    "ENDWHILE\n",
    "OUTPUT \"Hello \" & name\n",
    "```"
   ]
  },
  {
   "cell_type": "markdown",
   "metadata": {},
   "source": [
    "---\n",
    "## Format check\n",
    "Checks that data entered conform to a **pre-defined pattern**. E.g. Licence plate number should be 3 uppercase letters and 3 numbers."
   ]
  },
  {
   "cell_type": "code",
   "execution_count": null,
   "metadata": {},
   "outputs": [],
   "source": [
    "def formatCheck():\n",
    "    #Accept e.g. ABC234\n",
    "    valid = False\n",
    "    while valid == False:\n",
    "        valid = True\n",
    "        licence = input(\"Enter licence plate number\")\n",
    "        for j in range(3):\n",
    "            if licence[j] < \"A\" or licence[j] > \"Z\":\n",
    "                valid = False\n",
    "        \n",
    "        for j in range(3, 6):\n",
    "            if licence[j] < \"0\" or licence[j] > \"9\":\n",
    "                valid = False\n",
    "        \n",
    "        if valid == False:\n",
    "            print(\"Not a valid licence\")\n",
    "    print(\"Licence is valid\")\n",
    "\n",
    "formatCheck()"
   ]
  },
  {
   "cell_type": "markdown",
   "metadata": {},
   "source": [
    "**in Pseudocode:**\n",
    "```\n",
    "// Accept e.g. ABC234\n",
    "valid ← FALSE\n",
    "WHILE valid = FALSE DO\n",
    "    valid ← TRUE\n",
    "    INPUT licence\n",
    "    FOR j ← 1 TO 3\n",
    "        IF licence[j] < \"A\" OR licence[j] > \"Z\"\n",
    "            THEN\n",
    "                valid ← FALSE\n",
    "        ENDIF\n",
    "    NEXT j\n",
    "    FOR j ← 4 TO 6\n",
    "        IF licence[j] < \"0\" OR licence[j] > \"9\"\n",
    "            valid ← False\n",
    "        ENDIF\n",
    "    NEXT j\n",
    "    \n",
    "    IF valid = FALSE\n",
    "        THEN\n",
    "        OUTPUT \"Not a valid licence\"\n",
    "    ENDIF\n",
    "ENDWHILE\n",
    "OUTPUT \"Licence is valid\"\n",
    "```"
   ]
  },
  {
   "cell_type": "markdown",
   "metadata": {},
   "source": [
    "---\n",
    "## Check digit\n",
    "Final digit included in a code - calculated from all the digits in the code - used for barcode, product codes, ISBN and VIN numbers. E.g. a product using a unique 6-digit identification number. The right-most digit (position 1) is a check digit. <br>\n",
    "For example: (see Y15_sp_1) <br> \n",
    "\n",
    "| 6   |  5    | 4     | 3   | 2   | 1  |     \n",
    "| --- |  ---  | ---   | --- | --- | ---|\n",
    "| 8   | 2     | 0     | 1   | 5   | ***6***  |\n",
    "\n",
    "with the 6 as the check digit. <br>\n",
    "As an example, an algorithm could have the following rules:\n",
    "* multiply each digit by its digit position\n",
    "* add up the results of the multiplications\n",
    "* divide the answer by 11\n",
    "* if the remainder is 0, the identification number and check digit are valid.\n",
    "\n",
    "(8 x 6) + (2 x 5) + (0 x 4) + (1 x 3) + (5 x 2) + (6 X 1)= 77\n",
    "53 mod 11 = 0.  Therefore then number is valid."
   ]
  },
  {
   "cell_type": "code",
   "execution_count": null,
   "metadata": {},
   "outputs": [],
   "source": [
    "def checkDigit():\n",
    "    number = input(\"Enter 6 digit number\")\n",
    "    valid = False\n",
    "    while valid == False:\n",
    "        total = 0\n",
    "        value = 6\n",
    "        for j in range(6):\n",
    "            total = total + (int(number[j]) * value)\n",
    "            value = value - 1\n",
    "        if total % 11 == 0:\n",
    "            valid = True\n",
    "        else:\n",
    "            print(\"Number not valid\")\n",
    "            number = input(\"Enter 6 digit number\")\n",
    "    print(number, \"is valid\")\n",
    "\n",
    "charCheck()"
   ]
  },
  {
   "cell_type": "markdown",
   "metadata": {},
   "source": [
    "**in Pseudocode:**\n",
    "```\n",
    "INPUT number\n",
    "valid ← FALSE\n",
    "WHILE valid = FALSE\n",
    "    total ← 0\n",
    "    value ← 6\n",
    "    FOR j ← 1 TO 6\n",
    "        total ← total + (number[j] * value)\n",
    "        value ← value - 1\n",
    "    NEXT j\n",
    "    IF total MOD 11 = 0\n",
    "        THEN\n",
    "            valid ← TRUE\n",
    "        ELSE\n",
    "            OUTPUT \"Number not valid\"\n",
    "            INPUT number\n",
    "            \n",
    "    ENDIF\n",
    "ENDWHILE\n",
    "OUTPUT number & \" is valid\"\n",
    "```\n"
   ]
  }
 ],
 "metadata": {
  "kernelspec": {
   "display_name": "Python 3 (ipykernel)",
   "language": "python",
   "name": "python3"
  },
  "language_info": {
   "codemirror_mode": {
    "name": "ipython",
    "version": 3
   },
   "file_extension": ".py",
   "mimetype": "text/x-python",
   "name": "python",
   "nbconvert_exporter": "python",
   "pygments_lexer": "ipython3",
   "version": "3.10.4"
  },
  "vscode": {
   "interpreter": {
    "hash": "77092aabb6fe95dc68c5a86148230924df889808934be970d9df44b704cbf01c"
   }
  }
 },
 "nbformat": 4,
 "nbformat_minor": 4
}
