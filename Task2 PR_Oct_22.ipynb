{
 "cells": [
  {
   "cell_type": "markdown",
   "metadata": {
    "id": "gntOyMKis-Di"
   },
   "source": [
    "## Pre Release 0478/22/ON/22"
   ]
  },
  {
   "cell_type": "markdown",
   "metadata": {},
   "source": [
    "#### **TASK 2** - adding accessible parking spaces\n",
    "The visitor car park booking system is to be re-designed to offer accessible parking. Spaces 1 to 5 are named accessible spaces. Spaces 6 to 20 are named general spaces.\n",
    "\n",
    "Extend you program in **Task 1** so that: \n",
    "* When a visitor requests a parking space, they are additionally asked if they need an accessible space\n",
    "    * if so, they are allocated the first available space beginning at space 1 and finishing at space 20\n",
    "    * if **not**, they are allocated the first available space beginning at space 20 and finishing at space 6\n",
    "    \n",
    "The system must work so that visitors requiring accessible parking may be allocated general spaces"
   ]
  },
  {
   "cell_type": "markdown",
   "metadata": {
    "id": "9emeRlCufKIe"
   },
   "source": [
    "#### **TASK 2 - solution**\n",
    "\n",
    "**STEP 1:** Use a constant called **maxParkingSpots** to store the number of parking sports available and set it to 20 (or other value while testing): `maxParkingSpots = 20`\n",
    "\n",
    "**STEP 2:** Add a constant called **minAccessibleSpots** so store the minimum number of accessible parking spots that must stay available. Set to 5 (or other value while testing) `minAccessibleSpots ← 5`\n",
    "\n",
    "**STEP 3:** Now use two arrays called **spotsAccessible** to store the next available accessible parking spot available for each of the 14 days (starting at 1) and **spotsGeneral** to store the next available general parking spot available for each of the 14 days (starting at 20 and not going below 6) \n",
    "\n",
    "`spotsAccessible : ARRAY[1:14] OF INTEGER`\n",
    "\n",
    "   |       |       |       |       |       |       |       |       |       |        |        |        |        |        |\n",
    "   | ----- | ----- | ----- | ----- | ----- | ----- | ----- | ----- | ----- | ------ | ------ | ------ | ------ | ------ |\n",
    "   | **1** | **2** | **3** | **4** | **5** | **6** | **7** | **8** | **9** | **10** | **11** | **12** | **13** | **14** |\n",
    "   | 1     | 1     | 1     | 1     | 1     | 1     | 1     | 1     | 1     | 1      | 1      | 1      | 1      | 1      |\n",
    "    \n",
    "\n",
    "`spotsGeneral : ARRAY[1:14] OF INTEGER`\n",
    "\n",
    "   |       |       |       |       |       |       |       |       |       |        |        |        |        |        |\n",
    "   | ----- | ----- | ----- | ----- | ----- | ----- | ----- | ----- | ----- | ------ | ------ | ------ | ------ | ------ |\n",
    "   | **1** | **2** | **3** | **4** | **5** | **6** | **7** | **8** | **9** | **10** | **11** | **12** | **13** | **14** |\n",
    "   | 20    | 20    | 20    | 20    | 20    | 20    | 20    | 20    | 20    | 20     | 20     | 20     | 20     | 20     |\n",
    "\n",
    "\n",
    "**STEP 4:** The **bookedParking** array in Task 1 is still used to store the name and licence plate for every person that books a parking spot. The row values represent the parking spot number and the columns the day number:  `bookedParking : ARRAY[1:20, 1:14] OF STRING`\n",
    "\n",
    "\n",
    "|        |       |       |        |       |      \n",
    "| ---    |  ---  | ---   | ---    | ---   |\n",
    "|        | **Day 1** | **Day 2** | **Day 3**  | **.....** |\n",
    "| **Spot 1** | Sam     | x     | x      | x     |\n",
    "| **Spot 2** | x     | x     | x      | x     | \n",
    "|  **...**   | x     | x     | Bob    | x     |\n",
    "\n",
    "**Cleaning** and **setting up** the arrays needs to be done in the beginning and the end of a new 14-day period\n",
    "\n",
    "Study and run the **Python** code below to see the layout and setting up of the structures"
   ]
  },
  {
   "cell_type": "code",
   "execution_count": null,
   "metadata": {
    "colab": {
     "base_uri": "https://localhost:8080/"
    },
    "id": "ykCTZwdt3R8O",
    "outputId": "c9295e55-1b9a-416d-88b8-9e9e009a61de",
    "tags": []
   },
   "outputs": [],
   "source": [
    "maxParkingSpots = 5  #Constant - (must be 20, change to lower number during testing)\n",
    "minAccessibleSpots = 3  #Constant (must be 5, change to lower number during testing)\n",
    "\n",
    "spotsGeneral = [maxParkingSpots for j in range(15)]    #Used to store the number of the next available general spot for each day (5 to 20)\n",
    "spotsAccessible = [1 for j in range(15)]    #Used to store the number of the next available accessible spot (1 to 5 or more - provided there is still space)\n",
    "bookedParking = [ [\"--\" for j in range(15)] for j in range(21) ] #Used to store detail of each booking in a 2D grid with spots as row values and columns as days\n",
    "\n",
    "%run -i help.py\n",
    "displayGrid2() #MAIN"
   ]
  },
  {
   "cell_type": "markdown",
   "metadata": {},
   "source": [
    "The **Pseudocode** for the **clearData** procedure will now look like this\n",
    "```\n",
    "PROCEDURE clearData()\n",
    "    FOR j ← 1 TO 14\n",
    "        spotsAccesible[j] ← 1\n",
    "        spotsGeneral[j] ← 20\n",
    "    NEXT j\n",
    "  \n",
    "    FOR row ← 1 TO maxParkingSpots\n",
    "        FOR col ← 1 TO 15\n",
    "            bookedParking[row, col] = \"--\"\n",
    "        NEXT col\n",
    "    NEXT row\n",
    "ENDPROCEDURE\n",
    "```"
   ]
  },
  {
   "cell_type": "markdown",
   "metadata": {
    "tags": []
   },
   "source": [
    "**STEP 5:** The user will be prompted for new bookings until no further bookings are required. A **WHILE-loop** will be used to achieve this.\n",
    "\n",
    "**STEP 6:** When a parking space is booked the user will be asked if he wants to book an accessible or general space.\n",
    "\n",
    "Inside the **WHILE-loop** from **step 5**, add the variable `accessible : CHAR (or STRING)` this is used to store the answer to type of space (must be a or g).\n",
    "\n",
    "**STEP 7:** Verifiy that the booking can be made by using the following tests\n",
    "* **If an accessible space is to be booked**:\n",
    "    * the next spot available in the **spotsAccessible** array must be smaller or equal (<=) to the next available spot in the **spotsGeneral** array and smaller than 20 (maxParkingSpots). Else report that there is no more space available\n",
    "\n",
    "\n",
    "* **If a general space it to be booked**:\n",
    "  * the next spot available in the **spotsGeneral** array must be more or equal (>=) to the next available spot in the **spotsAccessible** array *AND*\n",
    "  * the next spot available in the **spotsGeneral** array must be bigger (>) than **minAccessibleSpots** (which is 5). Else report that there is no more space available\n",
    " \n",
    "**STEP 8:** To store the detail in the *bookedParking* array and update the booked spots in the *spotsGeneral* and *spotsAccessible* arrays do the following.\n",
    "* store the detail (name and licence plate) in the *bookedParking* array at the correct position: parking spot (row) and day (column)\n",
    "* **If an accessible spot is booked:**\n",
    "    * increase the value at the current index in the spotsAccessible array\n",
    "* **If a general spot is booked:**\n",
    "    * decrease the value at the current index in the spotsGeneral array\n",
    "\n",
    "Put together the **Python code** will now look like this:"
   ]
  },
  {
   "cell_type": "code",
   "execution_count": null,
   "metadata": {},
   "outputs": [],
   "source": [
    "maxParkingSpots = 5  #Constant   - should be 20 in final program\n",
    "minAccessibleSpots = 2  #Constant  - should be 5\n",
    "\n",
    "spotsAvailable = [1 for j in range(15)]  #Task1\n",
    "spotsAccessible = [1 for j in range(15)]    #Task2\n",
    "spotsGeneral = [maxParkingSpots for j in range(15)]   #Task2\n",
    "bookedParking = [ [\"--\" for j in range(15)] for j in range(21) ]  #Task1 and 2\n",
    "\n",
    "def task2():\n",
    "    moreBookings = input(\"Do you want to book you parking spot (y/n) \") #I\n",
    "    while moreBookings == \"y\":                                          #T\n",
    "        name = input(\"Enter your name \")\n",
    "        licencePlate = input(\"Enter licence plate \")\n",
    "        detail = name + \" - \" + licencePlate\n",
    "        dayNum = int(input(\"Enter day number \"))\n",
    "        accessible = input(\"Is this an accessible (a) or general (g) spot? (enter a/g) \")\n",
    "        if accessible == \"a\":\n",
    "            if spotsAccessible[dayNum] <= spotsGeneral[dayNum] and spotsAccessible[dayNum] <= maxParkingSpots:\n",
    "                spot = spotsAccessible[dayNum]\n",
    "                print(\"You will get spot:\", spot)\n",
    "                bookedParking[spot][dayNum] = detail\n",
    "                spotsAccessible[dayNum] = spotsAccessible[dayNum] + 1\n",
    "            else:\n",
    "                print(\"no more accessible spots available\")\n",
    "        else:\n",
    "            if spotsGeneral[dayNum] > minAccessibleSpots and spotsGeneral[dayNum] >= spotsAccessible[dayNum]:\n",
    "                spot = spotsGeneral[dayNum]\n",
    "                print(\"You will get spot:\", spot)\n",
    "                bookedParking[spot][dayNum] = detail\n",
    "                spotsGeneral[dayNum] = spotsGeneral[dayNum] -1\n",
    "            else:\n",
    "                print(\"no more General spots available\")\n",
    "\n",
    "        moreBookings = input(\"Do you want to book you parking spot (y/n) \") #C\n",
    "        \n",
    "%run -i help.py\n",
    "task2()\n",
    "displayGrid2() #MAIN"
   ]
  },
  {
   "cell_type": "markdown",
   "metadata": {},
   "source": [
    "> ### Let's summarise\n",
    "#### Variables used in Task 1 and 2\n",
    "\n",
    "| VARIABLE        | DATA TYPE              | DESCRIPTION                                                  |\n",
    "| --------------  | -----------------------| ------------------------------------------------------------ |\n",
    "| **spotsAccessible** | ARRAY[1:15] OF INTEGER | Stores the number of the next available accessible parking spot. (The index correlates with the day number and the value stored at that index give the parking spot |\n",
    "| **spotsGeneral**     | ARRAY[1:15] OF INTEGER | Stores the number of the next available general parking spot. |\n",
    "| **bookedParking**  | ARRAY[1:20, 1:14] OF STRING | Store the detail of each person in an 2D array, at the appropriate spot (row) and on the correct day (column) |\n",
    "| **accessible**     | CHAR  (or STRING)           | Stores the answer ('a' or 'n' ) to the prompt if the user wants to book an accessible ('a') or general ('g') spot |\n",
    "| **moreBookings**   | CHAR  (or STRING)           | Stores the answer (*'y'* or *'n'* ) to the prompt if the user wants to make more bookings |\n",
    "| **dayNum**         | INTEGER                     | used to store the number of the day on which the user wants to book |\n",
    "| **spot**           | INTEGER                     | used to store the number of the spot that will be awarded to person booking |\n",
    "| **name**           | STRING                      | name of the person                                           |\n",
    "| **licencePlate**   | STRING                      | licence plate of car                                         |\n",
    "| **detail**         | STRING                      | combine *name* and *licencePlate* in single string called *detail* to store in the 2D array |"
   ]
  },
  {
   "cell_type": "markdown",
   "metadata": {},
   "source": [
    "#### Pseudocode for Task 2\n",
    "```pseudocode\n",
    "PROCEDURE task2()\n",
    "    OUTPUT \"Do you want to book you parking spot (y/n)\"\n",
    "    INPUT moreBookings\n",
    "    WHILE moreBookings = 'y'\n",
    "        INPUT name\n",
    "        INPUT licencePlate\n",
    "        detail ← name & \" - \" & licencePlate\n",
    "        INPUT dayNum\n",
    "        OUTPUT \"Is this an accessible (a) or general (g) spot? (enter a/g) \"\n",
    "        INPUT accessible\n",
    "        IF accessible = \"a\"\n",
    "            THEN\n",
    "                IF spotsAccessible[dayNum] <= spotsGeneral[dayNum]\n",
    "                    THEN\n",
    "                        spot ← spotsAccessible[dayNum]\n",
    "                        OUTPUT \"You will get spot:\" & spot\n",
    "                        bookedParking[spot, dayNum] ← detail\n",
    "                        spotsAccessible[dayNum] ← spotsAccessible[dayNum] + 1\n",
    "                    ELSE\n",
    "                        OUTPUT \"no more accessible spots available\"\n",
    "            ELSE\n",
    "                IF spotsGeneral[dayNum] > minAccessibleSpots AND spotsGeneral[dayNum] >= spotsAccessible[dayNum]\n",
    "                    THEN\n",
    "                        spot ← spotsGeneral[dayNum]\n",
    "                        OUTPUT \"You will get spot:\" & spot\n",
    "                        bookedParking[spot, dayNum] ← detail\n",
    "                        spotsGeneral[dayNum] ← spotsGeneral[dayNum] -1\n",
    "                    ELSE\n",
    "                        OUTPUT \"no more general spots available\"\n",
    "                ENDIF\n",
    "        ENDIF\n",
    "\n",
    "        moreBookings = input(\"Do you want to book you parking spot (y/n) \") #C     \n",
    "    ENDWHILE\n",
    "ENDPROCEDURE\n",
    "\n",
    "PROCEDURE clearData()\n",
    "    FOR j ← 1 TO 14\n",
    "        spotsAccessible[j] ← 1\n",
    "        spotsGeneral[j] ← 1\n",
    "    NEXT j\n",
    "  \n",
    "    FOR row ← 1 TO maxParkingSpots\n",
    "        FOR col ← 1 TO 15\n",
    "            bookedParking[row, col] = \"--\"\n",
    "            bookedGenOrAcc[row, col] = \"--\"\n",
    "        NEXT col\n",
    "    NEXT row\n",
    "ENDPROCEDURE\n",
    "    \n",
    "//MAIN PROGRAM\n",
    "clearData()  //deletes data of all 14 days\n",
    "task2()\n",
    "```"
   ]
  }
 ],
 "metadata": {
  "colab": {
   "name": "Pre Release Oct 2022.ipynb",
   "provenance": []
  },
  "kernelspec": {
   "display_name": "Python 3",
   "language": "python",
   "name": "python3"
  },
  "language_info": {
   "codemirror_mode": {
    "name": "ipython",
    "version": 3
   },
   "file_extension": ".py",
   "mimetype": "text/x-python",
   "name": "python",
   "nbconvert_exporter": "python",
   "pygments_lexer": "ipython3",
   "version": "3.8.8"
  },
  "vscode": {
   "interpreter": {
    "hash": "fd7977a04fca7a62849d9e8161a08f8609a221bbeadc8d9e6ee14b7a9745de2e"
   }
  }
 },
 "nbformat": 4,
 "nbformat_minor": 4
}
