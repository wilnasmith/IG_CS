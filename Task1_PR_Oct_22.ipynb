{
 "cells": [
  {
   "cell_type": "markdown",
   "metadata": {
    "id": "gntOyMKis-Di"
   },
   "source": [
    "## Pre Release 0478/22/ON/22\n",
    "In preparation for the examination candidates should attempt the following practical tasks by **writing and testing a program or programs.** <br><br>\n",
    "An organisation has a visitor car park with 20 car parking spaces numbered 1 to 20. Car park spaces can be booked by visitors up to two week before the date they are needed, as long as a space is available. Visitors request a car parking space by stating the day in the two-week period in which it is required. They give the licence number of the car to be parked and their name. The next available space beginning at space 1, is allocated and the given data and booking are stored. A system is required to record the car park booking. <br> <br>\n",
    "Write and test a program or programs for the visitor car park booking system to work for a static period of two weeks:\n",
    "* Your program or programs must include appropriate prompts for the entry of data. Data must be validated on entry.\n",
    "* All outputs, including error messages, need to be set out clearly and understandably.\n",
    "* All variables, constants and other identifiers must have meaningful names.\n",
    "\n",
    "You will need to complete these **three** tasks. Each task must be fully tested."
   ]
  },
  {
   "cell_type": "markdown",
   "metadata": {},
   "source": [
    "#### **TASK 1** - setting up the booking system\n",
    "- Set up suitable data structures to store the car licence numbers and names of visitors who have booked car parking spaces. The data structures should have sufficient capacity to store data for each of the 20 parking spaces for a static period of two weeks. Allow a visitor to request a parking space on any day within the two-week period by entering a number between 1 and 14, inclusive. The system will check that there that there are spaces available on the day requested, and if so, will ask the visitors to enter their name and car licence number. The data will be stored in the data structures representing the first available parking space for the day requested. The visitor will be told the number of their parking space. <br>\n",
    "- At the end of the two-week period, alow all the data to be deleted ready for the next two-week period."
   ]
  },
  {
   "cell_type": "markdown",
   "metadata": {
    "id": "9emeRlCufKIe"
   },
   "source": [
    "#### **TASK 1 - solution**\n",
    "\n",
    "**STEP 1:** Use a constant called **maxParkingSpots** to store the number of parking sports available and set it to 20 (or other value while testing): `maxParkingSpots = 20`\n",
    "\n",
    "**STEP 2:** Use an array called **spotsAvailable** to store the next available parking spot for each of the 14 days: `spotsAvailable : ARRAY[1:14] OF INTEGER`\n",
    "\n",
    "**STEP 3:** Use a 2D array called **bookedParking** to store the name and licence plate of every person that books a parking spot. The row values represent the parking spot number and the columns the day number: `bookedParking : ARRAY[1:20, 1:14] OF STRING`\n",
    "\n",
    "\n",
    "|        |       |       |        |       |      \n",
    "| ---    |  ---  | ---   | ---    | ---   |\n",
    "|        | **Day 1** | **Day 2** | **Day 3**  | **.....** |\n",
    "| **Spot 1** | x     | B     | x      | x     |\n",
    "| **Spot 2** | x     | x     | x      | x     | \n",
    "|  **...**   | x     | x     | x    | x     |\n",
    "\n",
    "**Cleaning** and **setting up** the arrays needs to be done in the beginning and the end of 'n new 14-day period\n",
    "\n",
    "Study and run the **Python** code below to see the layout and setting up of the structures"
   ]
  },
  {
   "cell_type": "code",
   "execution_count": null,
   "metadata": {
    "colab": {
     "base_uri": "https://localhost:8080/"
    },
    "id": "ykCTZwdt3R8O",
    "outputId": "c9295e55-1b9a-416d-88b8-9e9e009a61de",
    "tags": []
   },
   "outputs": [],
   "source": [
    "maxParkingSpots = 5  #Constant - (must be 20, change to lower number during testing)\n",
    "\n",
    "spotsAvailable = [1 for j in range(15)]    #Used to store the number of the next available spot for each day\n",
    "bookedParking = [ [\"--\" for j in range(15)] for j in range(21) ] #Used to store detail of each booking in a 2D grid with spots as row values and columns as days\n",
    "\n",
    "%run -i help.py\n",
    "displayGrid1() #MAIN"
   ]
  },
  {
   "cell_type": "markdown",
   "metadata": {},
   "source": [
    "In **Pseudocode** we can create a procedure that sets up there arrays\n",
    "```\n",
    "PROCEDURE clearData()\n",
    "    FOR j ← 1 TO 14\n",
    "        spotsAvailable[j] ← 1\n",
    "    NEXT j\n",
    "  \n",
    "    FOR row ← 1 TO maxParkingSpots\n",
    "        FOR col ← 1 TO 15\n",
    "            bookedParking[row, col] = \"--\"\n",
    "        NEXT col\n",
    "    NEXT row\n",
    "ENDPROCEDURE\n",
    "```"
   ]
  },
  {
   "cell_type": "markdown",
   "metadata": {},
   "source": [
    "**STEP 4:** The user will be prompted for new bookings until no further bookings is required. A **WHILE-loop** will be used to achieve this.\n",
    "\n",
    "**Variables needed to prompt the user for a booking:**<br>\n",
    "    `moreBookings : CHAR (or STRING)`    //Used to store answer to prompt (must be y or n)<br>\n",
    "    `dayNum : INTENGER`     //used to store the number of the day on which to book <br>\n",
    "    `name : STRING`         // name of person<br>\n",
    "    `licencePlate : STRING` // licence plate<br>\n",
    "    `detail : STRING`       //   combine the name and licencePlate into a single string called detail to store in the 2D array\n",
    "    \n",
    "The user enters his name and licence plate as string variables that are then concatenated in to one string called detail. It is not neccesary to store the name and the licence plate sepetately.\n",
    "Study and run the **Python** code below to the basic functionality of adding new data"
   ]
  },
  {
   "cell_type": "code",
   "execution_count": null,
   "metadata": {},
   "outputs": [],
   "source": [
    "def task1():\n",
    "    moreBookings = input(\"Do you want to book a parking spot (y/n) \")     #Initialize\n",
    "    while moreBookings == 'y':                                            #Test\n",
    "        name = input(\"Enter your name \")\n",
    "        licencePlate = input(\"Enter licence plate \")\n",
    "        detail = name + \" - \" + licencePlate\n",
    "        dayNum = int(input(\"Enter day number \"))\n",
    "        moreBookings = input(\"Do you want to book a parking spot (y/n) \") #Change\n",
    "    print(\"End of the day - program works so far\")\n",
    "#MAIN\n",
    "task1()"
   ]
  },
  {
   "cell_type": "markdown",
   "metadata": {},
   "source": [
    "**STEP 5:** The user can only enter a day between 1 and 14. All other values should be rejected. Validation is needed to automatically check that a value entered for the day is acceptable. See the **Python** code below to test if the day entered is a valid value"
   ]
  },
  {
   "cell_type": "code",
   "execution_count": null,
   "metadata": {},
   "outputs": [],
   "source": [
    "dayNum = int(input(\"Enter day number \"))\n",
    "while dayNum < 1 or dayNum > 14:\n",
    "    print(\"Invalid value\")\n",
    "    dayNum = int(input(\"Enter day number \"))"
   ]
  },
  {
   "cell_type": "markdown",
   "metadata": {},
   "source": [
    "**Validation in Pseudocode will look like this:**\n",
    "Using a **WHILE**\n",
    "\n",
    "```\n",
    "INPUT dayNum\n",
    "WHILE dayNum < 1 OR dayNum > 14 DO\n",
    "    OUTPUT \"Invalid value\"\n",
    "    INPUT dayNum\n",
    "ENDWHILE\n",
    "```\n",
    "\n",
    "Using a **REPEAT**\n",
    "```\n",
    "REPEAT\n",
    "    INPUT dayNum\n",
    "    IF dayNum < 1 OR dayNum > 14 \n",
    "        THEN\n",
    "            OUTPUT \"Invalid value\"\n",
    "      ENDIF\n",
    "UNTIL dayNum >= 1 AND dayNum <= 14 \n",
    "```"
   ]
  },
  {
   "cell_type": "markdown",
   "metadata": {},
   "source": [
    "Combine the prompt in **STEP 4** with the validation in **STEP 5**. The Python code will now look like this:**"
   ]
  },
  {
   "cell_type": "code",
   "execution_count": null,
   "metadata": {},
   "outputs": [],
   "source": [
    "def task1():\n",
    "    moreBookings = input(\"Do you want to book a parking spot (y/n) \")     #Initialize\n",
    "    while moreBookings == 'y':                                            #Test\n",
    "        name = input(\"Enter your name \")\n",
    "        licencePlate = input(\"Enter licence plate \")\n",
    "        detail = name + \" - \" + licencePlate\n",
    "        dayNum = int(input(\"Enter day number \"))\n",
    "        while dayNum < 1 or dayNum > 14:\n",
    "            print(\"Invalid value\")\n",
    "            dayNum = int(input(\"Enter day number \"))\n",
    "        moreBookings = input(\"Do you want to book a parking spot (y/n) \") #Change\n",
    "    print(\"End of the day - program works so far\")\n",
    "#MAIN\n",
    "task1()"
   ]
  },
  {
   "cell_type": "markdown",
   "metadata": {},
   "source": [
    "**Pseudocode** for prompt and validation:\n",
    "```\n",
    "OUTPUT \"Do you want to book a parking spot (y/n) \"\n",
    "INPUT moreBookings\n",
    "WHILE moreBookings = 'y' DO\n",
    "    INPUT name\n",
    "    INPUT licencePlate\n",
    "    detail ← name + \" - \" + licencePlate\n",
    "    INPUT dayNum\n",
    "    WHILE dayNum < 1 OR dayNum > 14 DO\n",
    "        OUTPUT \"Invalid value\"\n",
    "        INPUT dayNum\n",
    "    ENDWHILE\n",
    "   INPUT moreBookings\n",
    "ENDWHILE\n",
    "```\n",
    "To make it easier to understand the rest of the code the validation will not be included in the code and explanation. You should however make sure that you know the code and can insert it when asked."
   ]
  },
  {
   "cell_type": "markdown",
   "metadata": {},
   "source": [
    " **STEP 6** At the end of the two week period the data should be cleared out. This just means that all the arrays needs to be cleared out. "
   ]
  },
  {
   "cell_type": "markdown",
   "metadata": {
    "tags": []
   },
   "source": [
    "**STEP 6**  Combine step 1 to 4. Declare the following aditional variable:\n",
    "\n",
    "`spot : INTEGER`        // used to store the number of the spot that will be awarded to person booking\n",
    "\n",
    "**Final code in Python** (excluding validation)"
   ]
  },
  {
   "cell_type": "code",
   "execution_count": null,
   "metadata": {},
   "outputs": [],
   "source": [
    "maxParkingSpots = 5  #Constant - (must be 20, change to lower number during testing)\n",
    "\n",
    "spotsAvailable = [1 for j in range(15)]    #Used to store the number of the next available spot for each day\n",
    "bookedParking = [ [\"--\" for j in range(15)] for j in range(21) ] #Used to store detail of each booking in a 2D grid with spots as row values and columns as days\n",
    "\n",
    "def task1():\n",
    "    moreBookings = input(\"Do you want to book a parking spot (y/n) \")   #Initialize\n",
    "    while moreBookings == 'y':                                          #Test\n",
    "        name = input(\"Enter your name \")\n",
    "        licencePlate = input(\"Enter licence plate \")\n",
    "        detail = name + \" - \" + licencePlate\n",
    "        dayNum = int(input(\"Enter day number \"))\n",
    "        if spotsAvailable[dayNum] <= maxParkingSpots:\n",
    "            spot = spotsAvailable[dayNum]\n",
    "            print(\"You will get spot:\", spot)\n",
    "            bookedParking[spot][dayNum] = detail     #stores data in the 2D array at the specific spot and day\n",
    "\n",
    "            spotsAvailable[dayNum] = spotsAvailable[dayNum] + 1   #increment to next available spot\n",
    "        else:\n",
    "            print(\"no more space available\")\n",
    "        moreBookings = input(\"Do you want to book a parking spot (y/n) \") #Change\n",
    "\n",
    "def clearData():     #Clears data at the end of a 14 day period\n",
    "    for j in range(1, 15):\n",
    "        spotsAvailable[j] = 1\n",
    "    for row in range(1, maxParkingSpots+1):\n",
    "        for col in range(1, 15):\n",
    "            bookedParking[row][col] = \"--\"        \n",
    "        \n",
    "#MAIN\n",
    "%run -i help.py\n",
    "clearData() # Done at the beginning or end of a 14-day period\n",
    "task1()\n",
    "displayGrid1() #MAIN"
   ]
  },
  {
   "cell_type": "markdown",
   "metadata": {},
   "source": [
    "> ### Let's summarise"
   ]
  },
  {
   "cell_type": "markdown",
   "metadata": {},
   "source": [
    "#### Variables used in Task 1\n",
    "\n",
    "| Variable       | Data type                   | Description                                                  |\n",
    "| -------------- | --------------------------- | ------------------------------------------------------------ |\n",
    "| spotsAvailable | ARRAY[1:15] OF INTEGER      | Stores the number of the next parking spot available.  (The index corelates with the day number and the value stored at that index give the parking spot)|\n",
    "| bookedParking  | ARRAY[1:20, 1:14] OF STRING | Stores the detail of each person in an 2D array, at the appropriate spot (row) and on the correct day(column) |\n",
    "| moreBookings   | CHAR  (or STRING)           | Stores the answer (*'y'* or *'n'* ) to the prompt if the user wants to make more bookings |\n",
    "| dayNum         | INTEGER                     | used to store the number of the day on which the user wants to book |\n",
    "| spot           | INTEGER                     | used to store the number of the spot that will be awarded to person booking |\n",
    "| name           | STRING                      | name of the person                                           |\n",
    "| licencePlate   | STRING                      | licence plate of car                                         |\n",
    "| detail         | STRING                      | combine the *name* and *licencePlate* in single string called *detail* to store in the 2D array |\n"
   ]
  },
  {
   "cell_type": "markdown",
   "metadata": {},
   "source": [
    "#### Pseudocode for Task 1\n",
    "```\n",
    "maxParkingSpots = 20     //Constant - (must be 20, change to lower number during testing)\n",
    "spotsAvailable : ARRAY[1:15] OF INTEGER      //Stores number of next available spot for each day    \n",
    "bookedParking : ARRAY[1:20, 1:14] OF STRING  //Stores detail of bookings in a 2D grid with spots as row values and columns as days\n",
    "\n",
    "PROCDURE task1()\n",
    "    OUTPUT \"Do you want to book a parking spot (y/n)\"\n",
    "    INPUT moreBookings\n",
    "    WHILE moreBookings <> 'y'DO                   \n",
    "       INPUT name\n",
    "       INPUT licencePlate\n",
    "       detail ← name & \" - \" & licencePlate\n",
    "       INPUT dayNum\n",
    "       IF spotsAvailable[dayNum] <= maxParkingSpots\n",
    "            THEN\n",
    "                spot ← spotsAvailable[dayNum]\n",
    "                OUTPUT \"You will get spot:\" & spot\n",
    "                bookedParking[spot, dayNum] ← detail //stores data in the 2D array at the specific spot and day\n",
    "                \n",
    "                spotsAvailable[dayNum] ← spotsAvailable[dayNum] + 1  //increment to next available spot\n",
    "               \n",
    "            ELSE\n",
    "                OUTPUT \"no more space available\"\n",
    "       ENIF\n",
    "       INPUT moreBookings\n",
    " ENDWHILE\n",
    "ENDPROCEDURE\n",
    "     \n",
    "PROCEDURE clearData()\n",
    "    FOR j ← 1 TO 14\n",
    "        spotsAvailable[j] ← 1\n",
    "    NEXT j\n",
    "  \n",
    "    FOR row ← 1 TO maxParkingSpots\n",
    "        FOR col ← 1 TO 15\n",
    "            bookedParking[row, col] = \"--\"\n",
    "        NEXT col\n",
    "    NEXT row\n",
    "ENDPROCEDURE\n",
    "\n",
    "clearData()\n",
    "task1()\n",
    "```"
   ]
  }
 ],
 "metadata": {
  "colab": {
   "name": "Pre Release Oct 2022.ipynb",
   "provenance": []
  },
  "kernelspec": {
   "display_name": "Python 3",
   "language": "python",
   "name": "python3"
  },
  "language_info": {
   "codemirror_mode": {
    "name": "ipython",
    "version": 3
   },
   "file_extension": ".py",
   "mimetype": "text/x-python",
   "name": "python",
   "nbconvert_exporter": "python",
   "pygments_lexer": "ipython3",
   "version": "3.8.8"
  },
  "vscode": {
   "interpreter": {
    "hash": "fd7977a04fca7a62849d9e8161a08f8609a221bbeadc8d9e6ee14b7a9745de2e"
   }
  }
 },
 "nbformat": 4,
 "nbformat_minor": 4
}
