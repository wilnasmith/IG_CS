{
 "cells": [
  {
   "cell_type": "markdown",
   "metadata": {
    "id": "gntOyMKis-Di"
   },
   "source": [
    "## Pre Release 0478/22/ON/22"
   ]
  },
  {
   "cell_type": "markdown",
   "metadata": {},
   "source": [
    "#### **TASK 3** - working out car park usage statistics\n",
    "Extend the program to enable the following statistics to be counted and output on request:\n",
    "* The number of accessible spaces used on any day of the 14 days.\n",
    "* The number of general spaces used on any of the 14 days.\n",
    "* The total number of spaces used on any of the 14 days\n",
    "* The total number of accessible spaces used in the whole 14-day period\n",
    "* The total number of general spaces used in the whole 14-day period\n",
    "* The total number of spaces used in the while 14 day period."
   ]
  },
  {
   "cell_type": "markdown",
   "metadata": {
    "id": "9emeRlCufKIe"
   },
   "source": [
    "#### **TASK 3 - solution**\n",
    "\n",
    "In task 2 we implemented the two arrays called **spotsAccessible** and **spotsNormal** \n",
    "\n",
    "`spotsAccessible : ARRAY[1:15] OF INTEGER`    \n",
    "`spotsNormal : ARRAY[1:15] OF INTEGER`\n",
    "\n",
    "### Accessible spots\n",
    "**spotsAccessible** stores the next available accessible parking spot for each of the 14 days. At the beginning of the 14 day period, each element in the array is set to 1. As new spots are booked the value at the index that corresponds with the day chosen, is increased. So on any given day the value at a specific index gives the next available parking spot for that day. If one is subtracted from this value, it gives the number of accessible spots booked for that day. Look at a possible scenario below:\n",
    "\n",
    "    \n",
    "|       |       |        |       |       |       |       |       |       |        |        |        |        |        |\n",
    "|  ---  | ---   | ---    | ---   | ---   | ---   | ---   | ---   | ---   | ---    | ---    | ---    | ---    | ---    |\n",
    "| **1** | **2** | **3**  | **4** | **5** | **6** | **7** | **8** | **9** | **10** | **11** | **12** | **13** | **14** |\n",
    "| 1     |  1    | 1      | 4     | 9     | 1     | 1     | 1     | 1     | 1      | 21     | 1      | 1      | 1      |\n",
    "\n",
    "On day 4 and 5 respectively there are 3 and 8 accessible spots booked and day 11 is fully booked at 20 accessible spots booked for the day. All the other days have no bookings yet.\n",
    "\n",
    "### Normal spots\n",
    "**spotsNormal** stores the next available normal parking spot available for each of the 14 days (starting at 20 and not going below 6). At the beginning of the 14 day period, each element in the array is set to 20. As new spots are booked the value at the index that corresponds with the day chosen, is decreased by 1. So on any given day the value at a specific index gives the next available parking spot for that day. If this value is subtracted from 20, it give the number of normal spots booked for that day. Look at a possible scenario below:\n",
    "\n",
    "|       |       |        |       |       |       |       |       |       |        |        |        |        |        |\n",
    "|  ---  | ---   | ---    | ---   | ---   | ---   | ---   | ---   | ---   | ---    | ---    | ---    | ---    | ---    |\n",
    "| **1** | **2** | **3**  | **4** | **5** | **6** | **7** | **8** | **9** | **10** | **11** | **12** | **13** | **14** |\n",
    "| 20    |  16   | 5      | 20    | 20    | 20    | 20    | 20    | 20    | 20     | 20     | 20     | 20     | 20     |\n",
    "\n",
    "On day 2 (20-16) = 4 general spots were booked. Day 3 has (20 - 5) = 15 general spots booked. All the other days have no bookings yet.\n",
    "\n",
    "By using the method above you can work out the number of accessible or general spots on any given day. If you add these values it will give you the total number of booked spots for that day.\n",
    "\n",
    "To work out the total number of accessible or general spots booked over the 14 day period you will need to iterate through these arrays. Using the method used for each individual day, work out a running total for each of the accessible and general bookings. To get the total number of spots booked these two values need to be totaled.\n",
    "\n",
    "Study and run the **Python** code below to see the layout of the structures"
   ]
  },
  {
   "cell_type": "code",
   "execution_count": null,
   "metadata": {
    "colab": {
     "base_uri": "https://localhost:8080/"
    },
    "id": "ykCTZwdt3R8O",
    "outputId": "c9295e55-1b9a-416d-88b8-9e9e009a61de",
    "tags": []
   },
   "outputs": [],
   "source": [
    "def task3():\n",
    "    day = int(input(\"Enter day to display statistics of \"))\n",
    "    print(\"Statistics for day\", day)\n",
    "    accessibleDayCount = spotsAccessible[day]-1\n",
    "    generalDayCount = maxParkingSpots - spotsGeneral[day]\n",
    "    totalDayCount = accessibleDayCount + generalDayCount\n",
    "    print(\"Number of accessible spaces used:\", accessibleDayCount)\n",
    "    print(\"Number of general spaces used:\", generalDayCount)\n",
    "    print(\"Total number of spaces used:\", totalDayCount)\n",
    "\n",
    "    print(\"\\n Statistics for whole 14-day period\")\n",
    "    totalAccessible = 0\n",
    "    totalGeneral = 0\n",
    "\n",
    "    for j in range(1,15):\n",
    "        totalAccessible = totalAccessible + (spotsAccessible[j] -1)\n",
    "        totalGeneral = totalGeneral + (maxParkingSpots - spotsGeneral[j])\n",
    "\n",
    "    totalCount = totalAccessible + totalGeneral\n",
    "    print(\"Total number of accessible spaces used:\", totalAccessible)\n",
    "    print(\"Total number of general spaces used:\", totalGeneral)\n",
    "    print(\"Total number of spaces used:\", totalCount)\n",
    "    \n",
    "    \n",
    "%run -i help.py\n",
    "readFromFile()\n",
    "displayGrid2() #MAIN\n",
    "task3()"
   ]
  },
  {
   "cell_type": "markdown",
   "metadata": {},
   "source": [
    "> ### Let's summarise\n",
    "#### Variables used in Task 3\n",
    "\n",
    "| VARIABLE               | DATA TYPE              | DESCRIPTION                                                  |\n",
    "| --------------         | -----------------------| ------------------------------------------------------------ |\n",
    "| **day**                | INTEGER                |Stores the **day number** that statistics was requested for       |\n",
    "| **accessibleDayCount** | INTEGER                |Used to calculate the number of **accessible** spaces used on **the day** requested       |\n",
    "| **generalDayCount**    | INTEGER                |Used to calculate the number of **general** spaces used on **the day** requested       |\n",
    "| **totalDayCount**      | INTEGER                |Used to calculate the **total number** of spaces used on **the day** requested       |\n",
    "| **totalAccessibility** | INTEGER                |Used to calculate the number of **accessible spaces** used in the whole **14-day period**       |\n",
    "| **totalGeneral**       | INTEGER                |Used to calculate the number of **general spaces** used in the whole **14-day period**       |\n",
    "| **totalCount**         | INTEGER                |Used to calculate the **total number of spaces** used in the whole **14-day period**       |"
   ]
  },
  {
   "cell_type": "markdown",
   "metadata": {},
   "source": [
    "#### Pseudocode for Task 3\n",
    "```pseudocode\n",
    "OUTPUT \"Enter day to display statistics of \"\n",
    "INPUT day\n",
    "OUTPUT \"Statistics for day\" & day\n",
    "accessibleDayCount ← spotsAccessible[day] - 1\n",
    "generalDayCount ← maxParkingSpots - spotsGeneral[day]\n",
    "totalDayCount ← accessibleDayCount + generalDayCount\n",
    "OUTPUT \"Number of accessible spaces used:\" & accessibleDayCount\n",
    "OUTPUT \"Number of general spaces used:\" & generalDayCount\n",
    "OUTPUT \"Total number of spaces used:\" & totalDayCount\n",
    "\n",
    "OUTPUT \"Statistics for whole 14-day period\"\n",
    "totalAccessible ← 0\n",
    "totalGeneral ← 0\n",
    "\n",
    "FOR j ← 1 TO 14\n",
    "\ttotalAccessible ← totalAccessible + (spotsAccessible[j] -1)\n",
    "  totalGeneral ← totalGeneral + (maxParkingSpots - spotsGeneral[j])\n",
    "\ttotalCount ← totalAccessible + totalGeneral\n",
    "NEXT J\n",
    "\n",
    "OUTPUT \"Total number of accessible spaces used:\" & totalAccessible\n",
    "OUTPUT \"Total number of general spaces used:\" & totalGeneral\n",
    "OUTPUT \"Total number of spaces used:\", totalCount\n",
    "```"
   ]
  }
 ],
 "metadata": {
  "colab": {
   "name": "Pre Release Oct 2022.ipynb",
   "provenance": []
  },
  "kernelspec": {
   "display_name": "\"Python/Mu (mu_venv-38-20210707-154753)\"",
   "language": "python",
   "name": "mu_venv-38-20210707-154753"
  },
  "language_info": {
   "codemirror_mode": {
    "name": "ipython",
    "version": 3
   },
   "file_extension": ".py",
   "mimetype": "text/x-python",
   "name": "python",
   "nbconvert_exporter": "python",
   "pygments_lexer": "ipython3",
   "version": "3.8.5"
  },
  "vscode": {
   "interpreter": {
    "hash": "fd7977a04fca7a62849d9e8161a08f8609a221bbeadc8d9e6ee14b7a9745de2e"
   }
  }
 },
 "nbformat": 4,
 "nbformat_minor": 4
}
